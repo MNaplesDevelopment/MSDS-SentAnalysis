{
 "cells": [
  {
   "cell_type": "markdown",
   "id": "b94b9166",
   "metadata": {},
   "source": [
    "# Sentiment Analysis via Attention Based Models\n",
    "\n",
    "This project will explore using attention model to perform sentiment analysis on labeled tweets. I will be implementing a modified version of the attention model from the research paper [Attention Is All You Need.](https://arxiv.org/abs/1706.03762) The dataset I am using is the [Sentiment140](https://www.kaggle.com/datasets/kazanova/sentiment140) dataset which contains about 1.6 million tweets. I will also be using the pretrained 300-dimensional [GloVe embeddings.](https://github.com/stanfordnlp/GloVe)"
   ]
  },
  {
   "cell_type": "code",
   "execution_count": 1,
   "id": "83d6b455",
   "metadata": {},
   "outputs": [],
   "source": [
    "import pandas as pd\n",
    "import numpy as np\n",
    "import torch\n",
    "import torch.nn as nn\n",
    "from torch.nn import functional as F\n",
    "import re\n",
    "import matplotlib.pyplot as plt"
   ]
  },
  {
   "cell_type": "code",
   "execution_count": 2,
   "id": "b5f3d41e",
   "metadata": {},
   "outputs": [],
   "source": [
    "df = pd.read_csv('dataset.csv', encoding='ISO-8859-1', names=[\"target\", \"ids\", \"date\", \"flag\", \"user\", \"text\"])"
   ]
  },
  {
   "cell_type": "code",
   "execution_count": 3,
   "id": "9e85f022",
   "metadata": {},
   "outputs": [],
   "source": [
    "dataset = np.asarray([df['target'], df['text']])"
   ]
  },
  {
   "cell_type": "code",
   "execution_count": 4,
   "id": "3e127c00",
   "metadata": {},
   "outputs": [],
   "source": [
    "del df"
   ]
  },
  {
   "cell_type": "code",
   "execution_count": 5,
   "id": "7861d09e",
   "metadata": {},
   "outputs": [],
   "source": [
    "dataset = dataset.T"
   ]
  },
  {
   "cell_type": "markdown",
   "id": "d6fa98df",
   "metadata": {},
   "source": [
    "# EDA and Data Cleaning\n",
    "\n",
    "I start with some basic EDA and data cleaning. For EDA I plot a few visuals to get a better idea of the data I am working with, aswell as listing out some of the tweets. For data cleaning I am lower-casing each tweet and replacing some common patterns with a token. For example I am replacing Twitter hashtags with a generic 'hashtag' token."
   ]
  },
  {
   "cell_type": "code",
   "execution_count": 6,
   "id": "594a6082",
   "metadata": {},
   "outputs": [],
   "source": [
    "positive, negative = 0, 0\n",
    "for i in range(len(dataset)):\n",
    "    if dataset[i][0] == 0:\n",
    "        negative += 1\n",
    "    else:\n",
    "        positive += 1"
   ]
  },
  {
   "cell_type": "code",
   "execution_count": 7,
   "id": "3b6d844d",
   "metadata": {},
   "outputs": [
    {
     "data": {
      "image/png": "[encoded data removed]",
      "text/plain": [
       "<Figure size 640x480 with 1 Axes>"
      ]
     },
     "metadata": {},
     "output_type": "display_data"
    }
   ],
   "source": [
    "fig = plt.figure()\n",
    "ax = fig.add_axes([0,0,1,1])\n",
    "l = ['Positive', 'Negative']\n",
    "v = [positive, negative]\n",
    "ax.bar(l,v)\n",
    "plt.show()"
   ]
  },
  {
   "cell_type": "code",
   "execution_count": 8,
   "id": "18e1f396",
   "metadata": {},
   "outputs": [],
   "source": [
    "def missing_words(data):\n",
    "    missing_words = 0\n",
    "    all_words = 0\n",
    "    for example in data:\n",
    "        for word in example.split():\n",
    "            all_words += 1\n",
    "            if word not in word_to_index.keys():\n",
    "                missing_words += 1\n",
    "    return missing_words, all_words"
   ]
  },
  {
   "cell_type": "code",
   "execution_count": 9,
   "id": "899f74fc",
   "metadata": {},
   "outputs": [],
   "source": [
    "def clean_data(data):\n",
    "    for i in range(len(data)):\n",
    "        tweet = data[i]\n",
    "        \n",
    "        urlPattern        = r\"((http://)[^ ]*|(https://)[^ ]*|( www\\.)[^ ]*)\"\n",
    "        userPattern       = '@[^\\s]+'\n",
    "        hashPattern       = '#[^\\s]+'\n",
    "        alphaPattern      = \"[^a-zA-Z0-9]\"\n",
    "        numberPattern      = \"[0-9]\"\n",
    "\n",
    "        tweet = tweet.lower()\n",
    "        #Replace URl's with 'url'\n",
    "        tweet = re.sub(urlPattern, 'URL', tweet)\n",
    "\n",
    "        #Replace @USERNAME with 'user'\n",
    "        tweet = re.sub(userPattern, 'user', tweet)\n",
    "        tweet = re.sub(hashPattern, 'hashtag', tweet)\n",
    "\n",
    "        #Remove all non alphabet characters\n",
    "        tweet = re.sub(alphaPattern, ' ', tweet)\n",
    "        tweet = re.sub(numberPattern, 'number', tweet)\n",
    "        \n",
    "        data[i] = tweet\n",
    "    return data"
   ]
  },
  {
   "cell_type": "code",
   "execution_count": 10,
   "id": "fd98184e",
   "metadata": {},
   "outputs": [
    {
     "data": {
      "text/plain": [
       "array(['user URL   awww  that s a bummer   you shoulda got david carr of third day to do it   d',\n",
       "       'is upset that he can t update his facebook by texting it    and might cry as a result  school today also  blah ',\n",
       "       'user i dived many times for the ball  managed to save numbernumber   the rest go out of bounds',\n",
       "       ..., 'are you ready for your mojo makeover  ask me for details ',\n",
       "       'happy numbernumberth birthday to my boo of alll time    tupac amaru shakur ',\n",
       "       'happy hashtag user user user '], dtype=object)"
      ]
     },
     "execution_count": 10,
     "metadata": {},
     "output_type": "execute_result"
    }
   ],
   "source": [
    "clean_data(dataset[:, 1])"
   ]
  },
  {
   "cell_type": "code",
   "execution_count": 11,
   "id": "0c3aa7af",
   "metadata": {},
   "outputs": [],
   "source": [
    "#miss, al = missing_words(dataset[:, 1])"
   ]
  },
  {
   "cell_type": "markdown",
   "id": "83810821",
   "metadata": {},
   "source": [
    "# Data Preparation\n",
    "\n",
    "Here I load in the GloVe word embeddings and create an embedding matrix. I then define a function for converting each word in the dataset into its position into the embedding matrix. I then pad each sequence to be the same length."
   ]
  },
  {
   "cell_type": "code",
   "execution_count": 12,
   "id": "92a5c6d8",
   "metadata": {},
   "outputs": [],
   "source": [
    "def get_vocab(data):\n",
    "    words = set()\n",
    "    for example in data:\n",
    "        for word in example.split():\n",
    "            words.add(word)\n",
    "    return words"
   ]
  },
  {
   "cell_type": "code",
   "execution_count": 13,
   "id": "e87fa988",
   "metadata": {},
   "outputs": [],
   "source": [
    "vocab = get_vocab(dataset[:, 1])"
   ]
  },
  {
   "cell_type": "code",
   "execution_count": 14,
   "id": "7511b6e5",
   "metadata": {},
   "outputs": [],
   "source": [
    "def read_glove_vecs(glove_file):\n",
    "    with open(glove_file, 'r', encoding=\"utf8\") as f:\n",
    "        words = set()\n",
    "        word_to_vec_map = {}\n",
    "        for line in f:\n",
    "            line = line.strip().split()\n",
    "            curr_word = line[0]\n",
    "            if curr_word not in vocab:\n",
    "                continue\n",
    "            words.add(curr_word)\n",
    "            word_to_vec_map[curr_word] = np.array(line[1:], dtype=np.float64)\n",
    "        \n",
    "        i = 1\n",
    "        words_to_index = {}\n",
    "        index_to_words = {}\n",
    "        embedding_matrix = []\n",
    "        embedding_matrix.append(np.zeros((300)))\n",
    "        words_to_index['<zero_array>'] = 0\n",
    "        index_to_words[0] = '<zero_array>'\n",
    "        for w in sorted(words):\n",
    "            embedding_matrix.append(word_to_vec_map[w])\n",
    "            words_to_index[w] = i\n",
    "            index_to_words[i] = w\n",
    "            i = i + 1\n",
    "    \n",
    "    return words_to_index, index_to_words, word_to_vec_map, embedding_matrix"
   ]
  },
  {
   "cell_type": "code",
   "execution_count": 15,
   "id": "22a9bfb2",
   "metadata": {},
   "outputs": [],
   "source": [
    "word_to_index, index_to_word, word_to_vec, embedding_matrix = read_glove_vecs('glove.6B.300d.txt')"
   ]
  },
  {
   "cell_type": "code",
   "execution_count": 16,
   "id": "9cbeb14a",
   "metadata": {},
   "outputs": [],
   "source": [
    "embedding_matrix = np.asarray(embedding_matrix)"
   ]
  },
  {
   "cell_type": "code",
   "execution_count": 17,
   "id": "d94ae8c2",
   "metadata": {},
   "outputs": [],
   "source": [
    "def string_to_token(string):\n",
    "    out = []\n",
    "    for word in string.split():\n",
    "        if word in word_to_index.keys():\n",
    "            out.append(word_to_index[word])\n",
    "    return out"
   ]
  },
  {
   "cell_type": "code",
   "execution_count": 18,
   "id": "6010fd7c",
   "metadata": {},
   "outputs": [],
   "source": [
    "for i in range(len(dataset[:, 1])):\n",
    "    dataset[i, 1] = string_to_token(dataset[i, 1])"
   ]
  },
  {
   "cell_type": "code",
   "execution_count": 19,
   "id": "31d7d726",
   "metadata": {},
   "outputs": [
    {
     "data": {
      "text/plain": [
       "array([list([87823, 5313, 83012, 71268, 1, 11253, 93112, 74954, 33605, 20152, 12877, 58352, 83216, 20192, 84039, 22952, 41277, 19577]),\n",
       "       list([41116, 87666, 83012, 36175, 12257, 81263, 87590, 37240, 27804, 11699, 82915, 41277, 2848, 52767, 18994, 4292, 1, 69188, 72704, 84099, 2292, 8587]),\n",
       "       list([87823, 38807, 22789, 50342, 83744, 30174, 83031, 5914, 50065, 84039, 72323, 83031, 69129, 33210, 59528, 58352, 9824]),\n",
       "       ...,\n",
       "       list([3892, 93112, 67412, 30174, 93140, 53835, 49833, 4424, 51629, 30174, 21507]),\n",
       "       list([35595, 8358, 84039, 55369, 9456, 58352, 83726, 85895, 2443, 74184]),\n",
       "       list([35595, 35883, 87823, 87823, 87823])], dtype=object)"
      ]
     },
     "execution_count": 19,
     "metadata": {},
     "output_type": "execute_result"
    }
   ],
   "source": [
    "dataset[:, 1]"
   ]
  },
  {
   "cell_type": "code",
   "execution_count": 20,
   "id": "5564da88",
   "metadata": {},
   "outputs": [],
   "source": [
    "max_len = 0\n",
    "tweet_lens = []\n",
    "for i in range(len(dataset[:, 1])):\n",
    "    tweet_lens.append(len(dataset[i, 1]))\n",
    "    if len(dataset[i, 1]) > max_len:\n",
    "        max_len = len(dataset[i, 1])"
   ]
  },
  {
   "cell_type": "code",
   "execution_count": 21,
   "id": "d133212a",
   "metadata": {},
   "outputs": [
    {
     "data": {
      "image/png": "[encoded data removed]",
      "text/plain": [
       "<Figure size 640x480 with 1 Axes>"
      ]
     },
     "metadata": {},
     "output_type": "display_data"
    }
   ],
   "source": [
    "plt.boxplot(tweet_lens)\n",
    "plt.title('Length of tweets')\n",
    "plt.show()"
   ]
  },
  {
   "cell_type": "code",
   "execution_count": 22,
   "id": "a2625870",
   "metadata": {},
   "outputs": [
    {
     "name": "stdout",
     "output_type": "stream",
     "text": [
      "Max Length: 53\n"
     ]
    }
   ],
   "source": [
    "print('Max Length: ' + str(max_len))"
   ]
  },
  {
   "cell_type": "code",
   "execution_count": 23,
   "id": "b1f52c51",
   "metadata": {},
   "outputs": [
    {
     "name": "stdout",
     "output_type": "stream",
     "text": [
      "Average length: 13.22330375\n"
     ]
    }
   ],
   "source": [
    "print('Average length: ' + str(sum(tweet_lens)/len(tweet_lens)))"
   ]
  },
  {
   "cell_type": "code",
   "execution_count": 24,
   "id": "4a866dac",
   "metadata": {},
   "outputs": [],
   "source": [
    "for i in range(len(dataset[:, 1])):\n",
    "    dataset[i, 1] = np.pad(dataset[i, 1], (max_len - len(dataset[i, 1]), 0), 'constant')"
   ]
  },
  {
   "cell_type": "code",
   "execution_count": 25,
   "id": "d03d6ec4",
   "metadata": {},
   "outputs": [
    {
     "data": {
      "text/plain": [
       "array([    0,     0,     0,     0,     0,     0,     0,     0,     0,\n",
       "           0,     0,     0,     0,     0,     0,     0,     0,     0,\n",
       "           0,     0,     0,     0,     0,     0,     0,     0,     0,\n",
       "           0,     0,     0,     0,     0,     0,     0,     0, 87823,\n",
       "        5313, 83012, 71268,     1, 11253, 93112, 74954, 33605, 20152,\n",
       "       12877, 58352, 83216, 20192, 84039, 22952, 41277, 19577])"
      ]
     },
     "execution_count": 25,
     "metadata": {},
     "output_type": "execute_result"
    }
   ],
   "source": [
    "dataset[0,1]"
   ]
  },
  {
   "cell_type": "code",
   "execution_count": 26,
   "id": "1d84aa35",
   "metadata": {},
   "outputs": [],
   "source": [
    "dataset[:, 0][800000:] = 1"
   ]
  },
  {
   "cell_type": "code",
   "execution_count": 27,
   "id": "377d5bf6",
   "metadata": {},
   "outputs": [],
   "source": [
    "from sklearn.model_selection import train_test_split\n",
    "x_train, x_test, y_train, y_test = train_test_split(dataset[:, 1], dataset[:, 0], test_size = 0.10, random_state=1)\n",
    "y_train = np.int32(y_train)\n",
    "y_test = np.int32(y_test)"
   ]
  },
  {
   "cell_type": "code",
   "execution_count": 28,
   "id": "ae56463a",
   "metadata": {},
   "outputs": [
    {
     "data": {
      "text/plain": [
       "(1440000,)"
      ]
     },
     "execution_count": 28,
     "metadata": {},
     "output_type": "execute_result"
    }
   ],
   "source": [
    "y_train.shape"
   ]
  },
  {
   "cell_type": "code",
   "execution_count": 29,
   "id": "d465a0af",
   "metadata": {},
   "outputs": [],
   "source": [
    "y_train = y_train.reshape(y_train.shape[0], 1)\n",
    "y_test = y_test.reshape(y_test.shape[0], 1)"
   ]
  },
  {
   "cell_type": "code",
   "execution_count": 30,
   "id": "c9d6c67a",
   "metadata": {},
   "outputs": [
    {
     "data": {
      "text/plain": [
       "(160000, 53)"
      ]
     },
     "execution_count": 30,
     "metadata": {},
     "output_type": "execute_result"
    }
   ],
   "source": [
    "x_test_data = []\n",
    "for x in x_test:\n",
    "    x_test_data.append([k for k in x])\n",
    "x_test_data = np.asarray(x_test_data)\n",
    "x_test_data.shape"
   ]
  },
  {
   "cell_type": "code",
   "execution_count": 31,
   "id": "bda8786b",
   "metadata": {
    "scrolled": true
   },
   "outputs": [
    {
     "data": {
      "text/plain": [
       "(1440000, 53)"
      ]
     },
     "execution_count": 31,
     "metadata": {},
     "output_type": "execute_result"
    }
   ],
   "source": [
    "x_train_data = []\n",
    "for x in x_train:\n",
    "    x_train_data.append([k for k in x])\n",
    "x_train_data = np.asarray(x_train_data)\n",
    "x_train_data.shape"
   ]
  },
  {
   "cell_type": "code",
   "execution_count": 32,
   "id": "373e8feb",
   "metadata": {},
   "outputs": [
    {
     "data": {
      "text/plain": [
       "300"
      ]
     },
     "execution_count": 32,
     "metadata": {},
     "output_type": "execute_result"
    }
   ],
   "source": [
    "emb_len = embedding_matrix.shape[1]\n",
    "vocab_size = embedding_matrix.shape[0]\n",
    "emb_len"
   ]
  },
  {
   "cell_type": "markdown",
   "id": "0c876d9b",
   "metadata": {},
   "source": [
    "# The Attention Model\n",
    "\n",
    "The attention model is a sequential model similar to an RNN. However, instead of using recurrent layers to provide information of the order of a sequence, this will use the attention mechanism which will provide information as to which information is important to other information in the sequence. The key, query and value transformations will tell the model what information it should draw its attention to for each input in the sequence. This a approach solves one of the main issues with RNN's; long range dependencies. RNN's are very bad at remembering information much ealier in the sequence due to exploding and vanishing gradients, GRU's and LSTM's help with this but are not perfect as it forces the model to compress all the information it has learned into memory cells.\n",
    "\n",
    "![Multi-Head](assets/multi-head.png)"
   ]
  },
  {
   "cell_type": "code",
   "execution_count": 33,
   "id": "3033dd07",
   "metadata": {},
   "outputs": [],
   "source": [
    "n_head = 6\n",
    "n_layer = 6\n",
    "dropout = 0.2\n",
    "batch_size = 512\n",
    "block_size = max_len\n",
    "lr = 1e-4"
   ]
  },
  {
   "cell_type": "code",
   "execution_count": 34,
   "id": "81915f36",
   "metadata": {},
   "outputs": [],
   "source": [
    "class Head(nn.Module):\n",
    "    def __init__(self, head_size):\n",
    "        super().__init__()\n",
    "        self.key = nn.Linear(emb_len, head_size, bias=False)\n",
    "        self.query = nn.Linear(emb_len, head_size, bias=False)\n",
    "        self.value = nn.Linear(emb_len, head_size, bias=False)\n",
    "        self.dropout = nn.Dropout(dropout)\n",
    "        \n",
    "    def forward(self, x):\n",
    "        B, T, C = x.shape\n",
    "        k = self.key(x)   #B, T, C\n",
    "        q = self.query(x) #B, T, C\n",
    "        wei = q @ k.transpose(-2, -1) * C**-0.5 #(B, T, C) * (B, C, t) -> (B, T, T)\n",
    "        wei = F.softmax(wei, dim=-1) #(B,T, T)\n",
    "        wei = self.dropout(wei)\n",
    "        v = self.value(x) #(B, T, C)\n",
    "        out = wei @ v #(B, T, T) * (B, T, C) -> (B, T, C)\n",
    "        return out"
   ]
  },
  {
   "cell_type": "code",
   "execution_count": 35,
   "id": "c3db2dbe",
   "metadata": {},
   "outputs": [],
   "source": [
    "class MultiHeadAttention(nn.Module):\n",
    "    def __init__(self, num_heads, head_size):\n",
    "        super().__init__()\n",
    "        self.heads = nn.ModuleList([Head(head_size) for _ in range(num_heads)])\n",
    "        self.proj = nn.Linear(emb_len, emb_len)\n",
    "        self.dropout = nn.Dropout(dropout)\n",
    "        \n",
    "    def forward(self, x):\n",
    "        out = torch.cat([h(x) for h in self.heads], dim=-1)\n",
    "        out = self.dropout(self.proj(out))\n",
    "        return out"
   ]
  },
  {
   "cell_type": "code",
   "execution_count": 36,
   "id": "204a8349",
   "metadata": {},
   "outputs": [],
   "source": [
    "class FeedForward(nn.Module):\n",
    "    def __init__(self, emb_len):\n",
    "        super().__init__()\n",
    "        self.net = nn.Sequential(\n",
    "            nn.Linear(emb_len, emb_len*4),\n",
    "            nn.ReLU(),\n",
    "            nn.Linear(emb_len*4, emb_len),\n",
    "            nn.Dropout(dropout)\n",
    "        )\n",
    "        \n",
    "    def forward(self, x):\n",
    "        x = self.net(x)\n",
    "        return x"
   ]
  },
  {
   "cell_type": "code",
   "execution_count": 37,
   "id": "908a8b3a",
   "metadata": {},
   "outputs": [],
   "source": [
    "class Block(nn.Module):\n",
    "    def __init__(self, emb_len, n_head):\n",
    "        super().__init__()\n",
    "        \n",
    "        head_size = emb_len // n_head\n",
    "        self.sa = MultiHeadAttention(n_head, head_size)\n",
    "        self.ffwd = FeedForward(emb_len)\n",
    "        self.ln1 = nn.LayerNorm(emb_len)\n",
    "        self.ln2 = nn.LayerNorm(emb_len)\n",
    "        \n",
    "    def forward(self, x):\n",
    "        x = x + self.sa(self.ln1(x))\n",
    "        x = x + self.ffwd(self.ln2(x))\n",
    "        \n",
    "        return x"
   ]
  },
  {
   "cell_type": "code",
   "execution_count": 38,
   "id": "f2bfe007",
   "metadata": {},
   "outputs": [],
   "source": [
    "class AttentionModel(nn.Module):\n",
    "    def __init__(self, embeddings):\n",
    "        super().__init__()\n",
    "        \n",
    "        self.word_embs_table = nn.Embedding(vocab_size, emb_len)\n",
    "        self.word_embs_table.load_state_dict({'weight': embeddings})\n",
    "        self.word_embs_table.weight.requires_grad = False\n",
    "        self.pos_embs_table = nn.Embedding(max_len, emb_len)\n",
    "        self.blocks = nn.Sequential(*[Block(emb_len, n_head=n_head) for _ in range(n_layer)])\n",
    "        #self.block = Block(emb_len, n_head=1)\n",
    "        self.ln_f = nn.LayerNorm(emb_len)\n",
    "        self.lm_head = nn.Linear(emb_len, 1)\n",
    "        self.sigmoid = nn.Sigmoid()\n",
    "        \n",
    "    def forward(self, idx):\n",
    "        B, T = idx.shape\n",
    "        word_embs = self.word_embs_table(idx)\n",
    "        pos_embs = self.pos_embs_table(torch.arange(T).to(device))\n",
    "        x = word_embs + pos_embs\n",
    "        x = self.blocks(x) #(B, T, C)\n",
    "        x = self.ln_f(x) #(B, T, C)\n",
    "        x = self.lm_head(x) #(B, T, 1)\n",
    "        x = x[:, -1, :]\n",
    "        output = self.sigmoid(x)\n",
    "        return output\n",
    "        "
   ]
  },
  {
   "cell_type": "code",
   "execution_count": 39,
   "id": "57e12d61",
   "metadata": {},
   "outputs": [],
   "source": [
    "from torch.utils.data import DataLoader, Dataset\n",
    "\n",
    "class CustomDataset(Dataset):\n",
    "    def __init__(self, examples, labels):\n",
    "        self.examples = examples\n",
    "        self.labels = labels\n",
    "\n",
    "    def __len__(self):\n",
    "        return len(self.labels)\n",
    "\n",
    "    def __getitem__(self, idx):\n",
    "        example = torch.IntTensor(self.examples[idx])\n",
    "        label = self.labels[idx]\n",
    "        \n",
    "        return example, label"
   ]
  },
  {
   "cell_type": "code",
   "execution_count": 40,
   "id": "fc6934aa",
   "metadata": {},
   "outputs": [],
   "source": [
    "device = 'cuda' if torch.cuda.is_available() else 'cpu'\n",
    "model = AttentionModel(torch.tensor(embedding_matrix)).to(device)"
   ]
  },
  {
   "cell_type": "code",
   "execution_count": 41,
   "id": "e20d843a",
   "metadata": {},
   "outputs": [],
   "source": [
    "optimizer = torch.optim.AdamW(model.parameters(), lr=lr)\n",
    "criterion = nn.BCELoss()"
   ]
  },
  {
   "cell_type": "code",
   "execution_count": 42,
   "id": "35153151",
   "metadata": {},
   "outputs": [],
   "source": [
    "train_dataset = CustomDataset(x_train_data, y_train)\n",
    "test_dataset = CustomDataset(x_test_data, y_test)\n",
    "\n",
    "train_dataloader = DataLoader(train_dataset, batch_size=batch_size, shuffle=False)\n",
    "test_dataloader = DataLoader(test_dataset, batch_size=batch_size, shuffle=False)"
   ]
  },
  {
   "cell_type": "code",
   "execution_count": 43,
   "id": "92dc6b92",
   "metadata": {},
   "outputs": [],
   "source": [
    "def train(epochs):\n",
    "    for epoch in range(epochs):\n",
    "        for i, (batch, labels) in enumerate(train_dataloader):\n",
    "            batch, labels = batch.to(device), labels.to(device)\n",
    "            labels = labels.reshape((len(labels), 1))\n",
    "            labels = labels.float()\n",
    "            \n",
    "            model.zero_grad()\n",
    "            \n",
    "            output = model(batch)\n",
    "            loss = criterion(output, labels)\n",
    "            \n",
    "            loss.backward()\n",
    "            optimizer.step()\n",
    "            if i % 500 == 0:\n",
    "                print(f'step: {i} Loss: {loss}')"
   ]
  },
  {
   "cell_type": "code",
   "execution_count": 44,
   "id": "63d0941f",
   "metadata": {},
   "outputs": [
    {
     "name": "stdout",
     "output_type": "stream",
     "text": [
      "step: 0 Loss: 0.7563766241073608\n",
      "step: 500 Loss: 0.501509428024292\n",
      "step: 1000 Loss: 0.4932723045349121\n",
      "step: 1500 Loss: 0.5301410555839539\n",
      "step: 2000 Loss: 0.5011727809906006\n",
      "step: 2500 Loss: 0.44999879598617554\n",
      "step: 0 Loss: 0.4715435206890106\n",
      "step: 500 Loss: 0.46323445439338684\n",
      "step: 1000 Loss: 0.43261095881462097\n",
      "step: 1500 Loss: 0.49384981393814087\n",
      "step: 2000 Loss: 0.4534715712070465\n",
      "step: 2500 Loss: 0.4131383001804352\n",
      "step: 0 Loss: 0.4481344521045685\n",
      "step: 500 Loss: 0.43677812814712524\n",
      "step: 1000 Loss: 0.42236658930778503\n",
      "step: 1500 Loss: 0.4813661575317383\n",
      "step: 2000 Loss: 0.4298541247844696\n",
      "step: 2500 Loss: 0.4100232720375061\n",
      "step: 0 Loss: 0.4332115948200226\n",
      "step: 500 Loss: 0.41351747512817383\n",
      "step: 1000 Loss: 0.4022032916545868\n",
      "step: 1500 Loss: 0.4608456492424011\n",
      "step: 2000 Loss: 0.39795470237731934\n",
      "step: 2500 Loss: 0.38992756605148315\n"
     ]
    }
   ],
   "source": [
    "train(4)"
   ]
  },
  {
   "cell_type": "code",
   "execution_count": 45,
   "id": "569d9367",
   "metadata": {},
   "outputs": [
    {
     "name": "stdout",
     "output_type": "stream",
     "text": [
      "34.656901 Million parameters\n"
     ]
    }
   ],
   "source": [
    "print(sum(p.numel() for p in model.parameters())/1e6, 'Million parameters')"
   ]
  },
  {
   "cell_type": "code",
   "execution_count": 46,
   "id": "fe471a10",
   "metadata": {},
   "outputs": [],
   "source": [
    "def print_accuracy(dataloader):\n",
    "    correct = 0\n",
    "    total = 0\n",
    "    with torch.no_grad():\n",
    "        for messages, labels in dataloader:\n",
    "            messages = torch.tensor(messages).to(device)\n",
    "            outputs = model(messages)\n",
    "            outputs = outputs.detach().cpu().numpy()\n",
    "            labels = labels.detach().cpu().numpy()\n",
    "            outputs = outputs >= 0.5\n",
    "            labels = labels == 1.0\n",
    "            total += len(labels)\n",
    "            for i in range(len(labels)):\n",
    "                if labels[i] == outputs[i][0]:\n",
    "                    correct += 1\n",
    "    print(correct / total)"
   ]
  },
  {
   "cell_type": "code",
   "execution_count": 47,
   "id": "b60a7ef9",
   "metadata": {},
   "outputs": [
    {
     "name": "stderr",
     "output_type": "stream",
     "text": [
      "C:\\Users\\daman\\AppData\\Local\\Temp\\ipykernel_17788\\3151982353.py:6: UserWarning: To copy construct from a tensor, it is recommended to use sourceTensor.clone().detach() or sourceTensor.clone().detach().requires_grad_(True), rather than torch.tensor(sourceTensor).\n",
      "  messages = torch.tensor(messages).to(device)\n"
     ]
    },
    {
     "name": "stdout",
     "output_type": "stream",
     "text": [
      "0.8038\n"
     ]
    }
   ],
   "source": [
    "print_accuracy(test_dataloader)"
   ]
  },
  {
   "cell_type": "code",
   "execution_count": 48,
   "id": "be344d0b",
   "metadata": {},
   "outputs": [
    {
     "name": "stderr",
     "output_type": "stream",
     "text": [
      "C:\\Users\\daman\\AppData\\Local\\Temp\\ipykernel_17788\\3151982353.py:6: UserWarning: To copy construct from a tensor, it is recommended to use sourceTensor.clone().detach() or sourceTensor.clone().detach().requires_grad_(True), rather than torch.tensor(sourceTensor).\n",
      "  messages = torch.tensor(messages).to(device)\n"
     ]
    },
    {
     "name": "stdout",
     "output_type": "stream",
     "text": [
      "0.8073215277777778\n"
     ]
    }
   ],
   "source": [
    "print_accuracy(train_dataloader)"
   ]
  },
  {
   "cell_type": "code",
   "execution_count": 49,
   "id": "e5169a79",
   "metadata": {},
   "outputs": [],
   "source": [
    "#torch.save(model.state_dict(), 'sent_trans.pt')"
   ]
  },
  {
   "cell_type": "markdown",
   "id": "ea63c2ae",
   "metadata": {},
   "source": [
    "# Results and Conclusion\n",
    "\n",
    "This model achieved an accuracy of about 81%. Which isn't the best and I believe the reason for this is the fact I am using GloVe embeddings. GloVe embeddings are a quick and easy way to get word embeddings but I believe this model would perform a lot better if I generated my own embeddings."
   ]
  },
  {
   "cell_type": "code",
   "execution_count": 50,
   "id": "06af51fd",
   "metadata": {},
   "outputs": [],
   "source": [
    "import itertools\n",
    "from sklearn.metrics import confusion_matrix, classification_report, accuracy_score\n",
    "def plot_confusion_matrix(cm, classes,\n",
    "                          title='Confusion matrix',\n",
    "                          cmap=plt.cm.Blues):\n",
    "    \"\"\"\n",
    "    This function prints and plots the confusion matrix.\n",
    "    Normalization can be applied by setting `normalize=True`.\n",
    "    \"\"\"\n",
    "\n",
    "    cm = cm.astype('float') / cm.sum(axis=1)[:, np.newaxis]\n",
    "\n",
    "    plt.imshow(cm, interpolation='nearest', cmap=cmap)\n",
    "    plt.title(title, fontsize=20)\n",
    "    plt.colorbar()\n",
    "    tick_marks = np.arange(len(classes))\n",
    "    plt.xticks(tick_marks, classes, fontsize=13)\n",
    "    plt.yticks(tick_marks, classes, fontsize=13)\n",
    "\n",
    "    fmt = '.2f'\n",
    "    thresh = cm.max() / 2.\n",
    "    for i, j in itertools.product(range(cm.shape[0]), range(cm.shape[1])):\n",
    "        plt.text(j, i, format(cm[i, j], fmt),\n",
    "                 horizontalalignment=\"center\",\n",
    "                 color=\"white\" if cm[i, j] > thresh else \"black\")\n",
    "\n",
    "    plt.ylabel('True label', fontsize=17)\n",
    "    plt.xlabel('Predicted label', fontsize=17)"
   ]
  },
  {
   "cell_type": "code",
   "execution_count": 51,
   "id": "ecf168da",
   "metadata": {},
   "outputs": [],
   "source": [
    "def cm(dataloader):\n",
    "    true_pos = 0\n",
    "    true_neg = 0\n",
    "    false_pos = 0\n",
    "    false_neg = 0\n",
    "    with torch.no_grad():\n",
    "        for messages, labels in dataloader:\n",
    "            messages = torch.tensor(messages).to(device)\n",
    "            outputs = model(messages)\n",
    "            outputs = outputs.detach().cpu().numpy()\n",
    "            labels = labels.detach().cpu().numpy()\n",
    "            outputs = outputs >= 0.5\n",
    "            labels = labels == 1.0\n",
    "            for i in range(len(labels)):\n",
    "                if outputs[i] == True:\n",
    "                    if labels[i] == True:\n",
    "                        true_pos += 1\n",
    "                    else:\n",
    "                        false_pos += 1\n",
    "                else:\n",
    "                    if labels[i] == False:\n",
    "                        true_neg += 1\n",
    "                    else:\n",
    "                        false_neg += 1\n",
    "    return np.asarray([[true_neg, false_neg], [false_pos, true_pos]])"
   ]
  },
  {
   "cell_type": "code",
   "execution_count": 52,
   "id": "852a7a24",
   "metadata": {},
   "outputs": [
    {
     "name": "stderr",
     "output_type": "stream",
     "text": [
      "C:\\Users\\daman\\AppData\\Local\\Temp\\ipykernel_17788\\1465458185.py:8: UserWarning: To copy construct from a tensor, it is recommended to use sourceTensor.clone().detach() or sourceTensor.clone().detach().requires_grad_(True), rather than torch.tensor(sourceTensor).\n",
      "  messages = torch.tensor(messages).to(device)\n"
     ]
    }
   ],
   "source": [
    "cm_ = cm(test_dataloader)"
   ]
  },
  {
   "cell_type": "code",
   "execution_count": 53,
   "id": "6910b528",
   "metadata": {},
   "outputs": [
    {
     "data": {
      "image/png": "[encoded data removed]",
      "text/plain": [
       "<Figure size 600x600 with 2 Axes>"
      ]
     },
     "metadata": {},
     "output_type": "display_data"
    }
   ],
   "source": [
    "cnf_matrix = np.asarray(cm_)\n",
    "plt.figure(figsize=(6,6))\n",
    "plot_confusion_matrix(cnf_matrix, classes=['Negative', 'Positive'], title=\"Confusion matrix\")\n",
    "plt.show()"
   ]
  },
  {
   "cell_type": "code",
   "execution_count": null,
   "id": "2d85e331",
   "metadata": {},
   "outputs": [],
   "source": []
  }
 ],
 "metadata": {
  "kernelspec": {
   "display_name": "Python 3 (ipykernel)",
   "language": "python",
   "name": "python3"
  },
  "language_info": {
   "codemirror_mode": {
    "name": "ipython",
    "version": 3
   },
   "file_extension": ".py",
   "mimetype": "text/x-python",
   "name": "python",
   "nbconvert_exporter": "python",
   "pygments_lexer": "ipython3",
   "version": "3.8.1"
  }
 },
 "nbformat": 4,
 "nbformat_minor": 5
}
